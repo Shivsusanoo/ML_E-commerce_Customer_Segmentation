{
 "cells": [
  {
   "cell_type": "markdown",
   "id": "e0812fcd",
   "metadata": {},
   "source": [
    "# Importing Libraries"
   ]
  },
  {
   "cell_type": "code",
   "execution_count": 1,
   "id": "6266e6a6",
   "metadata": {},
   "outputs": [],
   "source": [
    "import pandas as pd\n",
    "import numpy as np\n",
    "import seaborn as sns\n",
    "import matplotlib.pyplot as plt\n",
    "sns.set_style('darkgrid')\n",
    "%matplotlib inline\n",
    "import datetime as dt\n",
    "\n",
    "from sklearn.preprocessing import StandardScaler,RobustScaler\n",
    "from sklearn.cluster import KMeans\n",
    "\n",
    "\n",
    "import warnings\n",
    "warnings.filterwarnings('ignore')"
   ]
  },
  {
   "cell_type": "markdown",
   "id": "63e80e03",
   "metadata": {},
   "source": [
    "## Loading Dataset "
   ]
  },
  {
   "cell_type": "code",
   "execution_count": 2,
   "id": "986cb662",
   "metadata": {},
   "outputs": [
    {
     "data": {
      "text/html": [
       "<div>\n",
       "<style scoped>\n",
       "    .dataframe tbody tr th:only-of-type {\n",
       "        vertical-align: middle;\n",
       "    }\n",
       "\n",
       "    .dataframe tbody tr th {\n",
       "        vertical-align: top;\n",
       "    }\n",
       "\n",
       "    .dataframe thead th {\n",
       "        text-align: right;\n",
       "    }\n",
       "</style>\n",
       "<table border=\"1\" class=\"dataframe\">\n",
       "  <thead>\n",
       "    <tr style=\"text-align: right;\">\n",
       "      <th></th>\n",
       "      <th>CustomerID</th>\n",
       "      <th>Item Code</th>\n",
       "      <th>InvoieNo</th>\n",
       "      <th>Date of purchase</th>\n",
       "      <th>Quantity</th>\n",
       "      <th>Time</th>\n",
       "      <th>price per Unit</th>\n",
       "      <th>Price</th>\n",
       "      <th>Shipping Location</th>\n",
       "      <th>Cancelled_status</th>\n",
       "      <th>Reason of return</th>\n",
       "      <th>Sold as set</th>\n",
       "    </tr>\n",
       "  </thead>\n",
       "  <tbody>\n",
       "    <tr>\n",
       "      <th>0</th>\n",
       "      <td>4355.0</td>\n",
       "      <td>15734</td>\n",
       "      <td>398177</td>\n",
       "      <td>2017-10-29</td>\n",
       "      <td>6</td>\n",
       "      <td>15:36:00</td>\n",
       "      <td>321.0</td>\n",
       "      <td>1926.0</td>\n",
       "      <td>Location 1</td>\n",
       "      <td>NaN</td>\n",
       "      <td>NaN</td>\n",
       "      <td>NaN</td>\n",
       "    </tr>\n",
       "    <tr>\n",
       "      <th>1</th>\n",
       "      <td>4352.0</td>\n",
       "      <td>14616</td>\n",
       "      <td>394422</td>\n",
       "      <td>2017-10-05</td>\n",
       "      <td>2</td>\n",
       "      <td>14:53:00</td>\n",
       "      <td>870.0</td>\n",
       "      <td>1740.0</td>\n",
       "      <td>Location 1</td>\n",
       "      <td>NaN</td>\n",
       "      <td>NaN</td>\n",
       "      <td>NaN</td>\n",
       "    </tr>\n",
       "    <tr>\n",
       "      <th>2</th>\n",
       "      <td>4352.0</td>\n",
       "      <td>14614</td>\n",
       "      <td>394422</td>\n",
       "      <td>2017-10-12</td>\n",
       "      <td>2</td>\n",
       "      <td>14:53:00</td>\n",
       "      <td>933.0</td>\n",
       "      <td>1866.0</td>\n",
       "      <td>Location 1</td>\n",
       "      <td>NaN</td>\n",
       "      <td>NaN</td>\n",
       "      <td>NaN</td>\n",
       "    </tr>\n",
       "    <tr>\n",
       "      <th>3</th>\n",
       "      <td>4352.0</td>\n",
       "      <td>85014B</td>\n",
       "      <td>388633</td>\n",
       "      <td>2017-08-22</td>\n",
       "      <td>3</td>\n",
       "      <td>14:47:00</td>\n",
       "      <td>623.0</td>\n",
       "      <td>1869.0</td>\n",
       "      <td>Location 1</td>\n",
       "      <td>NaN</td>\n",
       "      <td>NaN</td>\n",
       "      <td>NaN</td>\n",
       "    </tr>\n",
       "    <tr>\n",
       "      <th>4</th>\n",
       "      <td>4352.0</td>\n",
       "      <td>15364</td>\n",
       "      <td>394422</td>\n",
       "      <td>2017-10-10</td>\n",
       "      <td>2</td>\n",
       "      <td>14:53:00</td>\n",
       "      <td>944.0</td>\n",
       "      <td>1888.0</td>\n",
       "      <td>Location 1</td>\n",
       "      <td>NaN</td>\n",
       "      <td>NaN</td>\n",
       "      <td>NaN</td>\n",
       "    </tr>\n",
       "  </tbody>\n",
       "</table>\n",
       "</div>"
      ],
      "text/plain": [
       "   CustomerID Item Code  InvoieNo Date of purchase  Quantity      Time  \\\n",
       "0      4355.0     15734    398177       2017-10-29         6  15:36:00   \n",
       "1      4352.0     14616    394422       2017-10-05         2  14:53:00   \n",
       "2      4352.0     14614    394422       2017-10-12         2  14:53:00   \n",
       "3      4352.0    85014B    388633       2017-08-22         3  14:47:00   \n",
       "4      4352.0     15364    394422       2017-10-10         2  14:53:00   \n",
       "\n",
       "   price per Unit   Price Shipping Location  Cancelled_status  \\\n",
       "0           321.0  1926.0        Location 1               NaN   \n",
       "1           870.0  1740.0        Location 1               NaN   \n",
       "2           933.0  1866.0        Location 1               NaN   \n",
       "3           623.0  1869.0        Location 1               NaN   \n",
       "4           944.0  1888.0        Location 1               NaN   \n",
       "\n",
       "  Reason of return  Sold as set  \n",
       "0              NaN          NaN  \n",
       "1              NaN          NaN  \n",
       "2              NaN          NaN  \n",
       "3              NaN          NaN  \n",
       "4              NaN          NaN  "
      ]
     },
     "execution_count": 2,
     "metadata": {},
     "output_type": "execute_result"
    }
   ],
   "source": [
    "df = pd.read_excel(r'E-com_Data.xlsx')\n",
    "df.head()"
   ]
  },
  {
   "cell_type": "markdown",
   "id": "bf915b6c",
   "metadata": {},
   "source": [
    "### Metadata"
   ]
  },
  {
   "cell_type": "code",
   "execution_count": 3,
   "id": "22ff7cb4",
   "metadata": {
    "scrolled": false
   },
   "outputs": [
    {
     "name": "stdout",
     "output_type": "stream",
     "text": [
      "<class 'pandas.core.frame.DataFrame'>\n",
      "RangeIndex: 537979 entries, 0 to 537978\n",
      "Data columns (total 12 columns):\n",
      " #   Column             Non-Null Count   Dtype         \n",
      "---  ------             --------------   -----         \n",
      " 0   CustomerID         404189 non-null  float64       \n",
      " 1   Item Code          537979 non-null  object        \n",
      " 2   InvoieNo           537979 non-null  int64         \n",
      " 3   Date of purchase   537979 non-null  datetime64[ns]\n",
      " 4   Quantity           537979 non-null  int64         \n",
      " 5   Time               537979 non-null  object        \n",
      " 6   price per Unit     537979 non-null  float64       \n",
      " 7   Price              537979 non-null  float64       \n",
      " 8   Shipping Location  537979 non-null  object        \n",
      " 9   Cancelled_status   8345 non-null    float64       \n",
      " 10  Reason of return   3 non-null       object        \n",
      " 11  Sold as set        0 non-null       float64       \n",
      "dtypes: datetime64[ns](1), float64(5), int64(2), object(4)\n",
      "memory usage: 49.3+ MB\n"
     ]
    }
   ],
   "source": [
    "df.info()"
   ]
  },
  {
   "cell_type": "code",
   "execution_count": 4,
   "id": "f9fb1c0a",
   "metadata": {},
   "outputs": [
    {
     "data": {
      "text/plain": [
       "CustomerID            4349\n",
       "Item Code             4009\n",
       "InvoieNo             24928\n",
       "Date of purchase       381\n",
       "Quantity               462\n",
       "Time                   770\n",
       "price per Unit        3479\n",
       "Price                16327\n",
       "Shipping Location       20\n",
       "Cancelled_status         1\n",
       "Reason of return         2\n",
       "Sold as set              0\n",
       "dtype: int64"
      ]
     },
     "execution_count": 4,
     "metadata": {},
     "output_type": "execute_result"
    }
   ],
   "source": [
    "df.nunique() # Checking number of unique values"
   ]
  },
  {
   "cell_type": "code",
   "execution_count": 5,
   "id": "9725ce18",
   "metadata": {},
   "outputs": [
    {
     "data": {
      "text/plain": [
       "CustomerID           133790\n",
       "Item Code                 0\n",
       "InvoieNo                  0\n",
       "Date of purchase          0\n",
       "Quantity                  0\n",
       "Time                      0\n",
       "price per Unit            0\n",
       "Price                     0\n",
       "Shipping Location         0\n",
       "Cancelled_status     529634\n",
       "Reason of return     537976\n",
       "Sold as set          537979\n",
       "dtype: int64"
      ]
     },
     "execution_count": 5,
     "metadata": {},
     "output_type": "execute_result"
    }
   ],
   "source": [
    "df.isnull().sum() # Checking for number of null values"
   ]
  },
  {
   "cell_type": "code",
   "execution_count": 6,
   "id": "2148218b",
   "metadata": {},
   "outputs": [
    {
     "data": {
      "text/plain": [
       "(537979, 12)"
      ]
     },
     "execution_count": 6,
     "metadata": {},
     "output_type": "execute_result"
    }
   ],
   "source": [
    "df.shape"
   ]
  },
  {
   "cell_type": "markdown",
   "id": "4c95cef6",
   "metadata": {},
   "source": [
    "### Checking for duplicate rows"
   ]
  },
  {
   "cell_type": "code",
   "execution_count": 7,
   "id": "94fc1b89",
   "metadata": {
    "scrolled": false
   },
   "outputs": [
    {
     "data": {
      "text/html": [
       "<div>\n",
       "<style scoped>\n",
       "    .dataframe tbody tr th:only-of-type {\n",
       "        vertical-align: middle;\n",
       "    }\n",
       "\n",
       "    .dataframe tbody tr th {\n",
       "        vertical-align: top;\n",
       "    }\n",
       "\n",
       "    .dataframe thead th {\n",
       "        text-align: right;\n",
       "    }\n",
       "</style>\n",
       "<table border=\"1\" class=\"dataframe\">\n",
       "  <thead>\n",
       "    <tr style=\"text-align: right;\">\n",
       "      <th></th>\n",
       "      <th>CustomerID</th>\n",
       "      <th>Item Code</th>\n",
       "      <th>InvoieNo</th>\n",
       "      <th>Date of purchase</th>\n",
       "      <th>Quantity</th>\n",
       "      <th>Time</th>\n",
       "      <th>price per Unit</th>\n",
       "      <th>Price</th>\n",
       "      <th>Shipping Location</th>\n",
       "      <th>Cancelled_status</th>\n",
       "      <th>Reason of return</th>\n",
       "      <th>Sold as set</th>\n",
       "    </tr>\n",
       "  </thead>\n",
       "  <tbody>\n",
       "    <tr>\n",
       "      <th>61202</th>\n",
       "      <td>4043.0</td>\n",
       "      <td>15819</td>\n",
       "      <td>403353</td>\n",
       "      <td>2017-12-02</td>\n",
       "      <td>1</td>\n",
       "      <td>14:07:00</td>\n",
       "      <td>447.0</td>\n",
       "      <td>447.0</td>\n",
       "      <td>Location 36</td>\n",
       "      <td>NaN</td>\n",
       "      <td>NaN</td>\n",
       "      <td>NaN</td>\n",
       "    </tr>\n",
       "    <tr>\n",
       "      <th>70587</th>\n",
       "      <td>3984.0</td>\n",
       "      <td>15422</td>\n",
       "      <td>405579</td>\n",
       "      <td>2017-12-09</td>\n",
       "      <td>24</td>\n",
       "      <td>14:09:00</td>\n",
       "      <td>77.0</td>\n",
       "      <td>1848.0</td>\n",
       "      <td>Location 36</td>\n",
       "      <td>NaN</td>\n",
       "      <td>NaN</td>\n",
       "      <td>NaN</td>\n",
       "    </tr>\n",
       "    <tr>\n",
       "      <th>84823</th>\n",
       "      <td>3828.0</td>\n",
       "      <td>14519</td>\n",
       "      <td>398139</td>\n",
       "      <td>2017-10-31</td>\n",
       "      <td>1</td>\n",
       "      <td>14:04:00</td>\n",
       "      <td>85.0</td>\n",
       "      <td>85.0</td>\n",
       "      <td>Location 36</td>\n",
       "      <td>NaN</td>\n",
       "      <td>NaN</td>\n",
       "      <td>NaN</td>\n",
       "    </tr>\n",
       "    <tr>\n",
       "      <th>120521</th>\n",
       "      <td>3384.0</td>\n",
       "      <td>15121</td>\n",
       "      <td>380588</td>\n",
       "      <td>2017-06-11</td>\n",
       "      <td>1</td>\n",
       "      <td>11:37:00</td>\n",
       "      <td>298.0</td>\n",
       "      <td>298.0</td>\n",
       "      <td>Location 36</td>\n",
       "      <td>NaN</td>\n",
       "      <td>NaN</td>\n",
       "      <td>NaN</td>\n",
       "    </tr>\n",
       "    <tr>\n",
       "      <th>182786</th>\n",
       "      <td>2607.0</td>\n",
       "      <td>15660</td>\n",
       "      <td>393225</td>\n",
       "      <td>2017-09-30</td>\n",
       "      <td>1</td>\n",
       "      <td>12:31:00</td>\n",
       "      <td>484.0</td>\n",
       "      <td>484.0</td>\n",
       "      <td>Location 36</td>\n",
       "      <td>NaN</td>\n",
       "      <td>NaN</td>\n",
       "      <td>NaN</td>\n",
       "    </tr>\n",
       "    <tr>\n",
       "      <th>248215</th>\n",
       "      <td>1852.0</td>\n",
       "      <td>15614</td>\n",
       "      <td>382863</td>\n",
       "      <td>2017-07-02</td>\n",
       "      <td>12</td>\n",
       "      <td>09:53:00</td>\n",
       "      <td>221.0</td>\n",
       "      <td>2652.0</td>\n",
       "      <td>Location 36</td>\n",
       "      <td>NaN</td>\n",
       "      <td>NaN</td>\n",
       "      <td>NaN</td>\n",
       "    </tr>\n",
       "    <tr>\n",
       "      <th>310310</th>\n",
       "      <td>1291.0</td>\n",
       "      <td>13958</td>\n",
       "      <td>368695</td>\n",
       "      <td>2017-02-14</td>\n",
       "      <td>2</td>\n",
       "      <td>16:17:00</td>\n",
       "      <td>298.0</td>\n",
       "      <td>596.0</td>\n",
       "      <td>Location 36</td>\n",
       "      <td>NaN</td>\n",
       "      <td>NaN</td>\n",
       "      <td>NaN</td>\n",
       "    </tr>\n",
       "    <tr>\n",
       "      <th>325175</th>\n",
       "      <td>1076.0</td>\n",
       "      <td>2020</td>\n",
       "      <td>405755</td>\n",
       "      <td>2017-12-13</td>\n",
       "      <td>12</td>\n",
       "      <td>15:48:00</td>\n",
       "      <td>58.0</td>\n",
       "      <td>696.0</td>\n",
       "      <td>Location 36</td>\n",
       "      <td>NaN</td>\n",
       "      <td>NaN</td>\n",
       "      <td>NaN</td>\n",
       "    </tr>\n",
       "    <tr>\n",
       "      <th>414854</th>\n",
       "      <td>NaN</td>\n",
       "      <td>2020</td>\n",
       "      <td>386281</td>\n",
       "      <td>2017-07-31</td>\n",
       "      <td>1</td>\n",
       "      <td>17:09:00</td>\n",
       "      <td>104.0</td>\n",
       "      <td>104.0</td>\n",
       "      <td>Location 36</td>\n",
       "      <td>NaN</td>\n",
       "      <td>NaN</td>\n",
       "      <td>NaN</td>\n",
       "    </tr>\n",
       "  </tbody>\n",
       "</table>\n",
       "</div>"
      ],
      "text/plain": [
       "        CustomerID Item Code  InvoieNo Date of purchase  Quantity      Time  \\\n",
       "61202       4043.0     15819    403353       2017-12-02         1  14:07:00   \n",
       "70587       3984.0     15422    405579       2017-12-09        24  14:09:00   \n",
       "84823       3828.0     14519    398139       2017-10-31         1  14:04:00   \n",
       "120521      3384.0     15121    380588       2017-06-11         1  11:37:00   \n",
       "182786      2607.0     15660    393225       2017-09-30         1  12:31:00   \n",
       "248215      1852.0     15614    382863       2017-07-02        12  09:53:00   \n",
       "310310      1291.0     13958    368695       2017-02-14         2  16:17:00   \n",
       "325175      1076.0      2020    405755       2017-12-13        12  15:48:00   \n",
       "414854         NaN      2020    386281       2017-07-31         1  17:09:00   \n",
       "\n",
       "        price per Unit   Price Shipping Location  Cancelled_status  \\\n",
       "61202            447.0   447.0       Location 36               NaN   \n",
       "70587             77.0  1848.0       Location 36               NaN   \n",
       "84823             85.0    85.0       Location 36               NaN   \n",
       "120521           298.0   298.0       Location 36               NaN   \n",
       "182786           484.0   484.0       Location 36               NaN   \n",
       "248215           221.0  2652.0       Location 36               NaN   \n",
       "310310           298.0   596.0       Location 36               NaN   \n",
       "325175            58.0   696.0       Location 36               NaN   \n",
       "414854           104.0   104.0       Location 36               NaN   \n",
       "\n",
       "       Reason of return  Sold as set  \n",
       "61202               NaN          NaN  \n",
       "70587               NaN          NaN  \n",
       "84823               NaN          NaN  \n",
       "120521              NaN          NaN  \n",
       "182786              NaN          NaN  \n",
       "248215              NaN          NaN  \n",
       "310310              NaN          NaN  \n",
       "325175              NaN          NaN  \n",
       "414854              NaN          NaN  "
      ]
     },
     "execution_count": 7,
     "metadata": {},
     "output_type": "execute_result"
    }
   ],
   "source": [
    "df[df.duplicated()]"
   ]
  },
  {
   "cell_type": "code",
   "execution_count": 8,
   "id": "583a69d9",
   "metadata": {},
   "outputs": [],
   "source": [
    "df1 = df.drop_duplicates(ignore_index=True) # droping duplicate value"
   ]
  },
  {
   "cell_type": "code",
   "execution_count": 9,
   "id": "b4079cb8",
   "metadata": {},
   "outputs": [
    {
     "data": {
      "text/plain": [
       "(537970, 12)"
      ]
     },
     "execution_count": 9,
     "metadata": {},
     "output_type": "execute_result"
    }
   ],
   "source": [
    "df1.shape"
   ]
  },
  {
   "cell_type": "code",
   "execution_count": 10,
   "id": "4767370d",
   "metadata": {},
   "outputs": [],
   "source": [
    "df1 = df1.dropna(subset=['CustomerID']) # Droping null values from CustomerID"
   ]
  },
  {
   "cell_type": "code",
   "execution_count": 11,
   "id": "ef4141e0",
   "metadata": {},
   "outputs": [
    {
     "data": {
      "text/plain": [
       "(404181, 12)"
      ]
     },
     "execution_count": 11,
     "metadata": {},
     "output_type": "execute_result"
    }
   ],
   "source": [
    "df1.shape"
   ]
  },
  {
   "cell_type": "code",
   "execution_count": 12,
   "id": "6b0ca030",
   "metadata": {},
   "outputs": [
    {
     "name": "stdout",
     "output_type": "stream",
     "text": [
      "Latest purchase date: 2017-12-19 00:00:00\n",
      "Earliest purchase Date: 2016-12-02 00:00:00\n"
     ]
    }
   ],
   "source": [
    "print('Latest purchase date: {}\\nEarliest purchase Date: {}'.format(max(df1['Date of purchase']),min(df1['Date of purchase'])))"
   ]
  },
  {
   "cell_type": "code",
   "execution_count": 13,
   "id": "bdc8ab21",
   "metadata": {},
   "outputs": [],
   "source": [
    "latest_date = dt.datetime(2017,12,20) "
   ]
  },
  {
   "cell_type": "code",
   "execution_count": 14,
   "id": "40658706",
   "metadata": {},
   "outputs": [],
   "source": [
    "df1['numberofrows'] = 1"
   ]
  },
  {
   "cell_type": "markdown",
   "id": "cb2084ce",
   "metadata": {},
   "source": [
    "### Creating RMF table"
   ]
  },
  {
   "cell_type": "code",
   "execution_count": 15,
   "id": "f548afb2",
   "metadata": {},
   "outputs": [
    {
     "data": {
      "text/html": [
       "<div>\n",
       "<style scoped>\n",
       "    .dataframe tbody tr th:only-of-type {\n",
       "        vertical-align: middle;\n",
       "    }\n",
       "\n",
       "    .dataframe tbody tr th {\n",
       "        vertical-align: top;\n",
       "    }\n",
       "\n",
       "    .dataframe thead th {\n",
       "        text-align: right;\n",
       "    }\n",
       "</style>\n",
       "<table border=\"1\" class=\"dataframe\">\n",
       "  <thead>\n",
       "    <tr style=\"text-align: right;\">\n",
       "      <th></th>\n",
       "      <th>CustomerID</th>\n",
       "      <th>Recency</th>\n",
       "      <th>Monetary</th>\n",
       "      <th>Frequency</th>\n",
       "    </tr>\n",
       "  </thead>\n",
       "  <tbody>\n",
       "    <tr>\n",
       "      <th>0</th>\n",
       "      <td>2.0</td>\n",
       "      <td>4</td>\n",
       "      <td>553704.0</td>\n",
       "      <td>182</td>\n",
       "    </tr>\n",
       "    <tr>\n",
       "      <th>1</th>\n",
       "      <td>3.0</td>\n",
       "      <td>77</td>\n",
       "      <td>257404.0</td>\n",
       "      <td>27</td>\n",
       "    </tr>\n",
       "    <tr>\n",
       "      <th>2</th>\n",
       "      <td>4.0</td>\n",
       "      <td>19</td>\n",
       "      <td>176613.0</td>\n",
       "      <td>72</td>\n",
       "    </tr>\n",
       "    <tr>\n",
       "      <th>3</th>\n",
       "      <td>5.0</td>\n",
       "      <td>311</td>\n",
       "      <td>41976.0</td>\n",
       "      <td>16</td>\n",
       "    </tr>\n",
       "    <tr>\n",
       "      <th>4</th>\n",
       "      <td>6.0</td>\n",
       "      <td>37</td>\n",
       "      <td>151822.0</td>\n",
       "      <td>84</td>\n",
       "    </tr>\n",
       "  </tbody>\n",
       "</table>\n",
       "</div>"
      ],
      "text/plain": [
       "   CustomerID  Recency  Monetary  Frequency\n",
       "0         2.0        4  553704.0        182\n",
       "1         3.0       77  257404.0         27\n",
       "2         4.0       19  176613.0         72\n",
       "3         5.0      311   41976.0         16\n",
       "4         6.0       37  151822.0         84"
      ]
     },
     "execution_count": 15,
     "metadata": {},
     "output_type": "execute_result"
    }
   ],
   "source": [
    "RMF_tab = df1.pivot_table(index='CustomerID',aggfunc={'Date of purchase':max,'numberofrows':sum,'Price':sum})\n",
    "RMF_tab['Date of purchase'] = -(RMF_tab['Date of purchase']-latest_date).dt.days\n",
    "RMF_tab.rename(columns={'Date of purchase':'Recency','Price':'Monetary','numberofrows':'Frequency'},inplace=True)\n",
    "RMF_tab.reset_index().head()"
   ]
  },
  {
   "cell_type": "code",
   "execution_count": 16,
   "id": "cf6f9787",
   "metadata": {},
   "outputs": [],
   "source": [
    "quantiles = RMF_tab.quantile(q=[0.25,0.50,0.75])\n",
    "quantiles = quantiles.to_dict()"
   ]
  },
  {
   "cell_type": "code",
   "execution_count": 17,
   "id": "b5d42157",
   "metadata": {},
   "outputs": [],
   "source": [
    "# Creating function to rank Customer based on R & MF (Recency, Monetary, Frequency)\n",
    "def RScoring(x,p,d):\n",
    "    if x <= d[p][0.25]:\n",
    "        return 1\n",
    "    elif x<= d[p][0.5]:\n",
    "        return 2\n",
    "    elif x<= d[p][0.75]:\n",
    "        return 3\n",
    "    else:\n",
    "        return 4\n",
    "    \n",
    "def FMScoring(x,p,d):\n",
    "    if x <= d[p][0.25]:\n",
    "        return 4\n",
    "    elif x<= d[p][0.50]:\n",
    "        return 3\n",
    "    elif x<=d[p][0.75]:\n",
    "        return 2\n",
    "    else:\n",
    "        return 1"
   ]
  },
  {
   "cell_type": "code",
   "execution_count": 18,
   "id": "8e61d294",
   "metadata": {},
   "outputs": [],
   "source": [
    "# Applying the function to create ranks\n",
    "RMF_tab['R'] = RMF_tab['Recency'].apply(RScoring,args=('Recency',quantiles,))\n",
    "RMF_tab['F'] = RMF_tab['Frequency'].apply(FMScoring,args=('Frequency',quantiles,))\n",
    "RMF_tab['M'] = RMF_tab['Monetary'].apply(FMScoring,args=('Monetary',quantiles,))"
   ]
  },
  {
   "cell_type": "code",
   "execution_count": 19,
   "id": "c9acc510",
   "metadata": {},
   "outputs": [
    {
     "data": {
      "text/html": [
       "<div>\n",
       "<style scoped>\n",
       "    .dataframe tbody tr th:only-of-type {\n",
       "        vertical-align: middle;\n",
       "    }\n",
       "\n",
       "    .dataframe tbody tr th {\n",
       "        vertical-align: top;\n",
       "    }\n",
       "\n",
       "    .dataframe thead th {\n",
       "        text-align: right;\n",
       "    }\n",
       "</style>\n",
       "<table border=\"1\" class=\"dataframe\">\n",
       "  <thead>\n",
       "    <tr style=\"text-align: right;\">\n",
       "      <th></th>\n",
       "      <th>Recency</th>\n",
       "      <th>Monetary</th>\n",
       "      <th>Frequency</th>\n",
       "      <th>R</th>\n",
       "      <th>F</th>\n",
       "      <th>M</th>\n",
       "    </tr>\n",
       "    <tr>\n",
       "      <th>CustomerID</th>\n",
       "      <th></th>\n",
       "      <th></th>\n",
       "      <th></th>\n",
       "      <th></th>\n",
       "      <th></th>\n",
       "      <th></th>\n",
       "    </tr>\n",
       "  </thead>\n",
       "  <tbody>\n",
       "    <tr>\n",
       "      <th>2.0</th>\n",
       "      <td>4</td>\n",
       "      <td>553704.0</td>\n",
       "      <td>182</td>\n",
       "      <td>1</td>\n",
       "      <td>1</td>\n",
       "      <td>1</td>\n",
       "    </tr>\n",
       "    <tr>\n",
       "      <th>3.0</th>\n",
       "      <td>77</td>\n",
       "      <td>257404.0</td>\n",
       "      <td>27</td>\n",
       "      <td>3</td>\n",
       "      <td>3</td>\n",
       "      <td>1</td>\n",
       "    </tr>\n",
       "    <tr>\n",
       "      <th>4.0</th>\n",
       "      <td>19</td>\n",
       "      <td>176613.0</td>\n",
       "      <td>72</td>\n",
       "      <td>2</td>\n",
       "      <td>2</td>\n",
       "      <td>2</td>\n",
       "    </tr>\n",
       "    <tr>\n",
       "      <th>5.0</th>\n",
       "      <td>311</td>\n",
       "      <td>41976.0</td>\n",
       "      <td>16</td>\n",
       "      <td>4</td>\n",
       "      <td>4</td>\n",
       "      <td>3</td>\n",
       "    </tr>\n",
       "    <tr>\n",
       "      <th>6.0</th>\n",
       "      <td>37</td>\n",
       "      <td>151822.0</td>\n",
       "      <td>84</td>\n",
       "      <td>2</td>\n",
       "      <td>2</td>\n",
       "      <td>2</td>\n",
       "    </tr>\n",
       "  </tbody>\n",
       "</table>\n",
       "</div>"
      ],
      "text/plain": [
       "            Recency  Monetary  Frequency  R  F  M\n",
       "CustomerID                                       \n",
       "2.0               4  553704.0        182  1  1  1\n",
       "3.0              77  257404.0         27  3  3  1\n",
       "4.0              19  176613.0         72  2  2  2\n",
       "5.0             311   41976.0         16  4  4  3\n",
       "6.0              37  151822.0         84  2  2  2"
      ]
     },
     "execution_count": 19,
     "metadata": {},
     "output_type": "execute_result"
    }
   ],
   "source": [
    "RMF_tab.head()"
   ]
  },
  {
   "cell_type": "code",
   "execution_count": 20,
   "id": "074be2ad",
   "metadata": {},
   "outputs": [],
   "source": [
    "RMF_tab['RMF'] = RMF_tab['R'].astype('str')+RMF_tab['F'].astype('str')+RMF_tab['M'].astype('str')"
   ]
  },
  {
   "cell_type": "code",
   "execution_count": 21,
   "id": "24132e6b",
   "metadata": {},
   "outputs": [],
   "source": [
    "RMF_tab['RMFscore'] = RMF_tab['R']+RMF_tab['F']+RMF_tab['M']"
   ]
  },
  {
   "cell_type": "code",
   "execution_count": 22,
   "id": "0c187353",
   "metadata": {},
   "outputs": [
    {
     "data": {
      "text/html": [
       "<div>\n",
       "<style scoped>\n",
       "    .dataframe tbody tr th:only-of-type {\n",
       "        vertical-align: middle;\n",
       "    }\n",
       "\n",
       "    .dataframe tbody tr th {\n",
       "        vertical-align: top;\n",
       "    }\n",
       "\n",
       "    .dataframe thead th {\n",
       "        text-align: right;\n",
       "    }\n",
       "</style>\n",
       "<table border=\"1\" class=\"dataframe\">\n",
       "  <thead>\n",
       "    <tr style=\"text-align: right;\">\n",
       "      <th></th>\n",
       "      <th>Recency</th>\n",
       "      <th>Monetary</th>\n",
       "      <th>Frequency</th>\n",
       "      <th>R</th>\n",
       "      <th>F</th>\n",
       "      <th>M</th>\n",
       "      <th>RMF</th>\n",
       "      <th>RMFscore</th>\n",
       "    </tr>\n",
       "    <tr>\n",
       "      <th>CustomerID</th>\n",
       "      <th></th>\n",
       "      <th></th>\n",
       "      <th></th>\n",
       "      <th></th>\n",
       "      <th></th>\n",
       "      <th></th>\n",
       "      <th></th>\n",
       "      <th></th>\n",
       "    </tr>\n",
       "  </thead>\n",
       "  <tbody>\n",
       "    <tr>\n",
       "      <th>2.0</th>\n",
       "      <td>4</td>\n",
       "      <td>553704.0</td>\n",
       "      <td>182</td>\n",
       "      <td>1</td>\n",
       "      <td>1</td>\n",
       "      <td>1</td>\n",
       "      <td>111</td>\n",
       "      <td>3</td>\n",
       "    </tr>\n",
       "    <tr>\n",
       "      <th>3.0</th>\n",
       "      <td>77</td>\n",
       "      <td>257404.0</td>\n",
       "      <td>27</td>\n",
       "      <td>3</td>\n",
       "      <td>3</td>\n",
       "      <td>1</td>\n",
       "      <td>331</td>\n",
       "      <td>7</td>\n",
       "    </tr>\n",
       "    <tr>\n",
       "      <th>4.0</th>\n",
       "      <td>19</td>\n",
       "      <td>176613.0</td>\n",
       "      <td>72</td>\n",
       "      <td>2</td>\n",
       "      <td>2</td>\n",
       "      <td>2</td>\n",
       "      <td>222</td>\n",
       "      <td>6</td>\n",
       "    </tr>\n",
       "    <tr>\n",
       "      <th>5.0</th>\n",
       "      <td>311</td>\n",
       "      <td>41976.0</td>\n",
       "      <td>16</td>\n",
       "      <td>4</td>\n",
       "      <td>4</td>\n",
       "      <td>3</td>\n",
       "      <td>443</td>\n",
       "      <td>11</td>\n",
       "    </tr>\n",
       "    <tr>\n",
       "      <th>6.0</th>\n",
       "      <td>37</td>\n",
       "      <td>151822.0</td>\n",
       "      <td>84</td>\n",
       "      <td>2</td>\n",
       "      <td>2</td>\n",
       "      <td>2</td>\n",
       "      <td>222</td>\n",
       "      <td>6</td>\n",
       "    </tr>\n",
       "  </tbody>\n",
       "</table>\n",
       "</div>"
      ],
      "text/plain": [
       "            Recency  Monetary  Frequency  R  F  M  RMF  RMFscore\n",
       "CustomerID                                                      \n",
       "2.0               4  553704.0        182  1  1  1  111         3\n",
       "3.0              77  257404.0         27  3  3  1  331         7\n",
       "4.0              19  176613.0         72  2  2  2  222         6\n",
       "5.0             311   41976.0         16  4  4  3  443        11\n",
       "6.0              37  151822.0         84  2  2  2  222         6"
      ]
     },
     "execution_count": 22,
     "metadata": {},
     "output_type": "execute_result"
    }
   ],
   "source": [
    "RMF_tab.head()"
   ]
  },
  {
   "cell_type": "code",
   "execution_count": 23,
   "id": "657d8df8",
   "metadata": {},
   "outputs": [],
   "source": [
    "# Creating loyalty level column for better understanding \n",
    "Loyalty_level = ['Diamond','Platinum','Gold','Silver']\n",
    "score_cuts = pd.qcut(RMF_tab.RMFscore,q=4,labels=Loyalty_level)\n",
    "RMF_tab['RMF_Loyalty_Level'] = score_cuts.values\n",
    "RMF_tab.reset_index(inplace=True)"
   ]
  },
  {
   "cell_type": "code",
   "execution_count": 24,
   "id": "fa72442d",
   "metadata": {
    "scrolled": true
   },
   "outputs": [],
   "source": [
    "# Replacing negative and zero\n",
    "RMF_tab['Monetary'] = list(map(lambda x: 1 if x <=0\n",
    "                             else x,RMF_tab['Monetary']))"
   ]
  },
  {
   "cell_type": "code",
   "execution_count": 25,
   "id": "858480de",
   "metadata": {},
   "outputs": [
    {
     "data": {
      "text/html": [
       "<div>\n",
       "<style scoped>\n",
       "    .dataframe tbody tr th:only-of-type {\n",
       "        vertical-align: middle;\n",
       "    }\n",
       "\n",
       "    .dataframe tbody tr th {\n",
       "        vertical-align: top;\n",
       "    }\n",
       "\n",
       "    .dataframe thead th {\n",
       "        text-align: right;\n",
       "    }\n",
       "</style>\n",
       "<table border=\"1\" class=\"dataframe\">\n",
       "  <thead>\n",
       "    <tr style=\"text-align: right;\">\n",
       "      <th></th>\n",
       "      <th>Recency</th>\n",
       "      <th>Frequency</th>\n",
       "      <th>Monetary</th>\n",
       "    </tr>\n",
       "  </thead>\n",
       "  <tbody>\n",
       "    <tr>\n",
       "      <th>0</th>\n",
       "      <td>4</td>\n",
       "      <td>182</td>\n",
       "      <td>553704.0</td>\n",
       "    </tr>\n",
       "    <tr>\n",
       "      <th>1</th>\n",
       "      <td>77</td>\n",
       "      <td>27</td>\n",
       "      <td>257404.0</td>\n",
       "    </tr>\n",
       "    <tr>\n",
       "      <th>2</th>\n",
       "      <td>19</td>\n",
       "      <td>72</td>\n",
       "      <td>176613.0</td>\n",
       "    </tr>\n",
       "    <tr>\n",
       "      <th>3</th>\n",
       "      <td>311</td>\n",
       "      <td>16</td>\n",
       "      <td>41976.0</td>\n",
       "    </tr>\n",
       "    <tr>\n",
       "      <th>4</th>\n",
       "      <td>37</td>\n",
       "      <td>84</td>\n",
       "      <td>151822.0</td>\n",
       "    </tr>\n",
       "  </tbody>\n",
       "</table>\n",
       "</div>"
      ],
      "text/plain": [
       "   Recency  Frequency  Monetary\n",
       "0        4        182  553704.0\n",
       "1       77         27  257404.0\n",
       "2       19         72  176613.0\n",
       "3      311         16   41976.0\n",
       "4       37         84  151822.0"
      ]
     },
     "execution_count": 25,
     "metadata": {},
     "output_type": "execute_result"
    }
   ],
   "source": [
    "# Creating dataset for clustering\n",
    "X = RMF_tab[['Recency','Frequency','Monetary']]\n",
    "X.head()"
   ]
  },
  {
   "cell_type": "code",
   "execution_count": 26,
   "id": "e9575939",
   "metadata": {},
   "outputs": [
    {
     "data": {
      "image/png": "[encoded data removed]",
      "text/plain": [
       "<Figure size 1080x432 with 3 Axes>"
      ]
     },
     "metadata": {
      "needs_background": "light"
     },
     "output_type": "display_data"
    }
   ],
   "source": [
    "# Distribution of features\n",
    "cols = X.columns\n",
    "plt.figure(figsize=(15,6))\n",
    "for i in range(len(cols)):\n",
    "    plt.subplot(1,3,i+1)\n",
    "    sns.histplot(data=X,x=cols[i],kde=True,color='r')\n",
    "    plt.xlabel(cols[i],fontsize=15)"
   ]
  },
  {
   "cell_type": "code",
   "execution_count": 27,
   "id": "cafc9a96",
   "metadata": {},
   "outputs": [
    {
     "data": {
      "image/png": "[encoded data removed]",
      "text/plain": [
       "<Figure size 1080x432 with 3 Axes>"
      ]
     },
     "metadata": {
      "needs_background": "light"
     },
     "output_type": "display_data"
    }
   ],
   "source": [
    "cols = X.columns\n",
    "plt.figure(figsize=(15,6))\n",
    "for i in range(len(cols)):\n",
    "    plt.subplot(1,3,i+1)\n",
    "    sns.boxplot(data=X,x=cols[i],color='r')\n",
    "    plt.xlabel(cols[i],fontsize=15)"
   ]
  },
  {
   "cell_type": "markdown",
   "id": "dbf2efbe",
   "metadata": {},
   "source": [
    "## Feature Scaling"
   ]
  },
  {
   "cell_type": "code",
   "execution_count": 28,
   "id": "ba620171",
   "metadata": {},
   "outputs": [
    {
     "data": {
      "text/html": [
       "<div>\n",
       "<style scoped>\n",
       "    .dataframe tbody tr th:only-of-type {\n",
       "        vertical-align: middle;\n",
       "    }\n",
       "\n",
       "    .dataframe tbody tr th {\n",
       "        vertical-align: top;\n",
       "    }\n",
       "\n",
       "    .dataframe thead th {\n",
       "        text-align: right;\n",
       "    }\n",
       "</style>\n",
       "<table border=\"1\" class=\"dataframe\">\n",
       "  <thead>\n",
       "    <tr style=\"text-align: right;\">\n",
       "      <th></th>\n",
       "      <th>Recency</th>\n",
       "      <th>Frequency</th>\n",
       "      <th>Monetary</th>\n",
       "    </tr>\n",
       "  </thead>\n",
       "  <tbody>\n",
       "    <tr>\n",
       "      <th>0</th>\n",
       "      <td>-0.886877</td>\n",
       "      <td>0.383795</td>\n",
       "      <td>0.377669</td>\n",
       "    </tr>\n",
       "    <tr>\n",
       "      <th>1</th>\n",
       "      <td>-0.161877</td>\n",
       "      <td>-0.284135</td>\n",
       "      <td>0.031987</td>\n",
       "    </tr>\n",
       "    <tr>\n",
       "      <th>2</th>\n",
       "      <td>-0.737904</td>\n",
       "      <td>-0.090220</td>\n",
       "      <td>-0.062268</td>\n",
       "    </tr>\n",
       "    <tr>\n",
       "      <th>3</th>\n",
       "      <td>2.162093</td>\n",
       "      <td>-0.331537</td>\n",
       "      <td>-0.219344</td>\n",
       "    </tr>\n",
       "    <tr>\n",
       "      <th>4</th>\n",
       "      <td>-0.559137</td>\n",
       "      <td>-0.038510</td>\n",
       "      <td>-0.091191</td>\n",
       "    </tr>\n",
       "  </tbody>\n",
       "</table>\n",
       "</div>"
      ],
      "text/plain": [
       "    Recency  Frequency  Monetary\n",
       "0 -0.886877   0.383795  0.377669\n",
       "1 -0.161877  -0.284135  0.031987\n",
       "2 -0.737904  -0.090220 -0.062268\n",
       "3  2.162093  -0.331537 -0.219344\n",
       "4 -0.559137  -0.038510 -0.091191"
      ]
     },
     "execution_count": 28,
     "metadata": {},
     "output_type": "execute_result"
    }
   ],
   "source": [
    "Scaler = StandardScaler()\n",
    "X_scaled = Scaler.fit_transform(X)\n",
    "X_scaled = pd.DataFrame(X_scaled,index=X.index,columns=X.columns)\n",
    "X_scaled.head()"
   ]
  },
  {
   "cell_type": "code",
   "execution_count": 29,
   "id": "932ea92d",
   "metadata": {},
   "outputs": [
    {
     "data": {
      "image/png": "[encoded data removed]",
      "text/plain": [
       "<Figure size 1080x432 with 3 Axes>"
      ]
     },
     "metadata": {
      "needs_background": "light"
     },
     "output_type": "display_data"
    }
   ],
   "source": [
    "cols = X_scaled.columns\n",
    "plt.figure(figsize=(15,6))\n",
    "for i in range(len(cols)):\n",
    "    plt.subplot(1,3,i+1)\n",
    "    sns.histplot(data=X_scaled,x=cols[i],kde=True,color='r')\n",
    "    plt.xlabel(cols[i],fontsize=15)"
   ]
  },
  {
   "cell_type": "markdown",
   "id": "9abb8496",
   "metadata": {},
   "source": [
    "## Creating Clustering Model"
   ]
  },
  {
   "cell_type": "code",
   "execution_count": 30,
   "id": "b4ed7352",
   "metadata": {},
   "outputs": [
    {
     "data": {
      "image/png": "[encoded data removed]",
      "text/plain": [
       "<Figure size 720x576 with 1 Axes>"
      ]
     },
     "metadata": {
      "needs_background": "light"
     },
     "output_type": "display_data"
    }
   ],
   "source": [
    "plt.figure(figsize=(10, 8))\n",
    "wcss = []\n",
    "K = range(1, 15)\n",
    "for i in K:\n",
    "    kmeans = KMeans(n_clusters = i, init = 'k-means++', random_state = 42)\n",
    "    kmeans.fit(X_scaled)\n",
    "    wcss.append(kmeans.inertia_)\n",
    "plt.plot(K, wcss,'o-')\n",
    "plt.title('The Elbow Method')\n",
    "plt.xlabel('Number of clusters')\n",
    "plt.ylabel('WCSS')\n",
    "plt.show()"
   ]
  },
  {
   "cell_type": "code",
   "execution_count": 31,
   "id": "dbe14ece",
   "metadata": {},
   "outputs": [
    {
     "data": {
      "text/html": [
       "<div>\n",
       "<style scoped>\n",
       "    .dataframe tbody tr th:only-of-type {\n",
       "        vertical-align: middle;\n",
       "    }\n",
       "\n",
       "    .dataframe tbody tr th {\n",
       "        vertical-align: top;\n",
       "    }\n",
       "\n",
       "    .dataframe thead th {\n",
       "        text-align: right;\n",
       "    }\n",
       "</style>\n",
       "<table border=\"1\" class=\"dataframe\">\n",
       "  <thead>\n",
       "    <tr style=\"text-align: right;\">\n",
       "      <th></th>\n",
       "      <th>CustomerID</th>\n",
       "      <th>Recency</th>\n",
       "      <th>Monetary</th>\n",
       "      <th>Frequency</th>\n",
       "      <th>R</th>\n",
       "      <th>F</th>\n",
       "      <th>M</th>\n",
       "      <th>RMF</th>\n",
       "      <th>RMFscore</th>\n",
       "      <th>RMF_Loyalty_Level</th>\n",
       "      <th>Label</th>\n",
       "    </tr>\n",
       "  </thead>\n",
       "  <tbody>\n",
       "    <tr>\n",
       "      <th>0</th>\n",
       "      <td>2.0</td>\n",
       "      <td>4</td>\n",
       "      <td>553704.0</td>\n",
       "      <td>182</td>\n",
       "      <td>1</td>\n",
       "      <td>1</td>\n",
       "      <td>1</td>\n",
       "      <td>111</td>\n",
       "      <td>3</td>\n",
       "      <td>Diamond</td>\n",
       "      <td>1</td>\n",
       "    </tr>\n",
       "    <tr>\n",
       "      <th>1</th>\n",
       "      <td>3.0</td>\n",
       "      <td>77</td>\n",
       "      <td>257404.0</td>\n",
       "      <td>27</td>\n",
       "      <td>3</td>\n",
       "      <td>3</td>\n",
       "      <td>1</td>\n",
       "      <td>331</td>\n",
       "      <td>7</td>\n",
       "      <td>Platinum</td>\n",
       "      <td>1</td>\n",
       "    </tr>\n",
       "    <tr>\n",
       "      <th>2</th>\n",
       "      <td>4.0</td>\n",
       "      <td>19</td>\n",
       "      <td>176613.0</td>\n",
       "      <td>72</td>\n",
       "      <td>2</td>\n",
       "      <td>2</td>\n",
       "      <td>2</td>\n",
       "      <td>222</td>\n",
       "      <td>6</td>\n",
       "      <td>Platinum</td>\n",
       "      <td>1</td>\n",
       "    </tr>\n",
       "    <tr>\n",
       "      <th>3</th>\n",
       "      <td>5.0</td>\n",
       "      <td>311</td>\n",
       "      <td>41976.0</td>\n",
       "      <td>16</td>\n",
       "      <td>4</td>\n",
       "      <td>4</td>\n",
       "      <td>3</td>\n",
       "      <td>443</td>\n",
       "      <td>11</td>\n",
       "      <td>Silver</td>\n",
       "      <td>0</td>\n",
       "    </tr>\n",
       "    <tr>\n",
       "      <th>4</th>\n",
       "      <td>6.0</td>\n",
       "      <td>37</td>\n",
       "      <td>151822.0</td>\n",
       "      <td>84</td>\n",
       "      <td>2</td>\n",
       "      <td>2</td>\n",
       "      <td>2</td>\n",
       "      <td>222</td>\n",
       "      <td>6</td>\n",
       "      <td>Platinum</td>\n",
       "      <td>1</td>\n",
       "    </tr>\n",
       "  </tbody>\n",
       "</table>\n",
       "</div>"
      ],
      "text/plain": [
       "   CustomerID  Recency  Monetary  Frequency  R  F  M  RMF  RMFscore  \\\n",
       "0         2.0        4  553704.0        182  1  1  1  111         3   \n",
       "1         3.0       77  257404.0         27  3  3  1  331         7   \n",
       "2         4.0       19  176613.0         72  2  2  2  222         6   \n",
       "3         5.0      311   41976.0         16  4  4  3  443        11   \n",
       "4         6.0       37  151822.0         84  2  2  2  222         6   \n",
       "\n",
       "  RMF_Loyalty_Level  Label  \n",
       "0           Diamond      1  \n",
       "1          Platinum      1  \n",
       "2          Platinum      1  \n",
       "3            Silver      0  \n",
       "4          Platinum      1  "
      ]
     },
     "execution_count": 31,
     "metadata": {},
     "output_type": "execute_result"
    }
   ],
   "source": [
    "kmeans = KMeans(n_clusters=4,init='k-means++', random_state=300)\n",
    "cluster = kmeans.fit_predict(X_scaled)\n",
    "RMF_tab['Label'] = kmeans.labels_\n",
    "RMF_tab.head()"
   ]
  },
  {
   "cell_type": "code",
   "execution_count": 32,
   "id": "8848b2bb",
   "metadata": {},
   "outputs": [
    {
     "name": "stdout",
     "output_type": "stream",
     "text": [
      "<class 'pandas.core.frame.DataFrame'>\n",
      "RangeIndex: 4349 entries, 0 to 4348\n",
      "Data columns (total 11 columns):\n",
      " #   Column             Non-Null Count  Dtype   \n",
      "---  ------             --------------  -----   \n",
      " 0   CustomerID         4349 non-null   float64 \n",
      " 1   Recency            4349 non-null   int64   \n",
      " 2   Monetary           4349 non-null   float64 \n",
      " 3   Frequency          4349 non-null   int64   \n",
      " 4   R                  4349 non-null   int64   \n",
      " 5   F                  4349 non-null   int64   \n",
      " 6   M                  4349 non-null   int64   \n",
      " 7   RMF                4349 non-null   object  \n",
      " 8   RMFscore           4349 non-null   int64   \n",
      " 9   RMF_Loyalty_Level  4349 non-null   category\n",
      " 10  Label              4349 non-null   int32   \n",
      "dtypes: category(1), float64(2), int32(1), int64(6), object(1)\n",
      "memory usage: 327.3+ KB\n"
     ]
    }
   ],
   "source": [
    "RMF_tab.info()"
   ]
  },
  {
   "cell_type": "code",
   "execution_count": 33,
   "id": "0ad595ab",
   "metadata": {},
   "outputs": [
    {
     "data": {
      "text/html": [
       "<div>\n",
       "<style scoped>\n",
       "    .dataframe tbody tr th:only-of-type {\n",
       "        vertical-align: middle;\n",
       "    }\n",
       "\n",
       "    .dataframe tbody tr th {\n",
       "        vertical-align: top;\n",
       "    }\n",
       "\n",
       "    .dataframe thead th {\n",
       "        text-align: right;\n",
       "    }\n",
       "</style>\n",
       "<table border=\"1\" class=\"dataframe\">\n",
       "  <thead>\n",
       "    <tr style=\"text-align: right;\">\n",
       "      <th></th>\n",
       "      <th>Label</th>\n",
       "      <th>NoOfBuyers</th>\n",
       "      <th>Frequency</th>\n",
       "      <th>Monetary</th>\n",
       "      <th>Recency</th>\n",
       "    </tr>\n",
       "  </thead>\n",
       "  <tbody>\n",
       "    <tr>\n",
       "      <th>0</th>\n",
       "      <td>0</td>\n",
       "      <td>1095</td>\n",
       "      <td>28.026484</td>\n",
       "      <td>5.794158e+04</td>\n",
       "      <td>247.969863</td>\n",
       "    </tr>\n",
       "    <tr>\n",
       "      <th>1</th>\n",
       "      <td>1</td>\n",
       "      <td>3239</td>\n",
       "      <td>104.125965</td>\n",
       "      <td>2.375828e+05</td>\n",
       "      <td>41.416178</td>\n",
       "    </tr>\n",
       "    <tr>\n",
       "      <th>2</th>\n",
       "      <td>2</td>\n",
       "      <td>11</td>\n",
       "      <td>1151.818182</td>\n",
       "      <td>1.216187e+07</td>\n",
       "      <td>6.818182</td>\n",
       "    </tr>\n",
       "    <tr>\n",
       "      <th>3</th>\n",
       "      <td>3</td>\n",
       "      <td>4</td>\n",
       "      <td>5889.500000</td>\n",
       "      <td>8.363220e+06</td>\n",
       "      <td>2.500000</td>\n",
       "    </tr>\n",
       "  </tbody>\n",
       "</table>\n",
       "</div>"
      ],
      "text/plain": [
       "   Label  NoOfBuyers    Frequency      Monetary     Recency\n",
       "0      0        1095    28.026484  5.794158e+04  247.969863\n",
       "1      1        3239   104.125965  2.375828e+05   41.416178\n",
       "2      2          11  1151.818182  1.216187e+07    6.818182\n",
       "3      3           4  5889.500000  8.363220e+06    2.500000"
      ]
     },
     "execution_count": 33,
     "metadata": {},
     "output_type": "execute_result"
    }
   ],
   "source": [
    "Pivot_tab = RMF_tab.pivot_table(index='Label', aggfunc={'Recency':'mean',\n",
    "                                           'Frequency':'mean',\n",
    "                                           'Monetary':'mean',\n",
    "                                           'CustomerID':'nunique'}).reset_index()\n",
    "Pivot_tab.rename(columns={'CustomerID':'NoOfBuyers'},inplace=True)\n",
    "Pivot_tab"
   ]
  },
  {
   "cell_type": "code",
   "execution_count": 34,
   "id": "2984cfb6",
   "metadata": {},
   "outputs": [
    {
     "data": {
      "text/html": [
       "<div>\n",
       "<style scoped>\n",
       "    .dataframe tbody tr th:only-of-type {\n",
       "        vertical-align: middle;\n",
       "    }\n",
       "\n",
       "    .dataframe tbody tr th {\n",
       "        vertical-align: top;\n",
       "    }\n",
       "\n",
       "    .dataframe thead th {\n",
       "        text-align: right;\n",
       "    }\n",
       "</style>\n",
       "<table border=\"1\" class=\"dataframe\">\n",
       "  <thead>\n",
       "    <tr style=\"text-align: right;\">\n",
       "      <th></th>\n",
       "      <th>Label</th>\n",
       "      <th>NoOfBuyers</th>\n",
       "      <th>Frequency</th>\n",
       "      <th>Monetary</th>\n",
       "      <th>Recency</th>\n",
       "      <th>Percent</th>\n",
       "    </tr>\n",
       "  </thead>\n",
       "  <tbody>\n",
       "    <tr>\n",
       "      <th>0</th>\n",
       "      <td>0</td>\n",
       "      <td>1095</td>\n",
       "      <td>28.026484</td>\n",
       "      <td>5.794158e+04</td>\n",
       "      <td>247.969863</td>\n",
       "      <td>25.18</td>\n",
       "    </tr>\n",
       "    <tr>\n",
       "      <th>1</th>\n",
       "      <td>1</td>\n",
       "      <td>3239</td>\n",
       "      <td>104.125965</td>\n",
       "      <td>2.375828e+05</td>\n",
       "      <td>41.416178</td>\n",
       "      <td>74.48</td>\n",
       "    </tr>\n",
       "    <tr>\n",
       "      <th>2</th>\n",
       "      <td>2</td>\n",
       "      <td>11</td>\n",
       "      <td>1151.818182</td>\n",
       "      <td>1.216187e+07</td>\n",
       "      <td>6.818182</td>\n",
       "      <td>0.25</td>\n",
       "    </tr>\n",
       "    <tr>\n",
       "      <th>3</th>\n",
       "      <td>3</td>\n",
       "      <td>4</td>\n",
       "      <td>5889.500000</td>\n",
       "      <td>8.363220e+06</td>\n",
       "      <td>2.500000</td>\n",
       "      <td>0.09</td>\n",
       "    </tr>\n",
       "  </tbody>\n",
       "</table>\n",
       "</div>"
      ],
      "text/plain": [
       "   Label  NoOfBuyers    Frequency      Monetary     Recency  Percent\n",
       "0      0        1095    28.026484  5.794158e+04  247.969863    25.18\n",
       "1      1        3239   104.125965  2.375828e+05   41.416178    74.48\n",
       "2      2          11  1151.818182  1.216187e+07    6.818182     0.25\n",
       "3      3           4  5889.500000  8.363220e+06    2.500000     0.09"
      ]
     },
     "execution_count": 34,
     "metadata": {},
     "output_type": "execute_result"
    }
   ],
   "source": [
    "Pivot_tab['Percent'] = round(Pivot_tab['NoOfBuyers']*100/(Pivot_tab['NoOfBuyers'].sum()),2)\n",
    "Pivot_tab"
   ]
  },
  {
   "cell_type": "code",
   "execution_count": 35,
   "id": "f4bd39dc",
   "metadata": {},
   "outputs": [],
   "source": [
    "RMF_tab.to_excel('Output_Cluster.xlsx')"
   ]
  },
  {
   "cell_type": "markdown",
   "id": "b2e06bb7",
   "metadata": {},
   "source": [
    "- Cluster 0 -> Gold,Platinum,Silver | Avg Monetary: 57941.58 | Avg Freq: 28| {max:321,min:1}\n",
    "- Cluster 1 -> Diamond,Gold,Platinum,Silver | Avg Monetary: 237582.78 | Avg Freq: 104| {max:2779,min:1}\n",
    "- Cluster 2 -> Diamond | Avg Monetary: 12161872.64 | Avg Freq:1151| {max:263,min:2489}\n",
    "- Cluster 3 -> Diamond | Avg Monetary: 8363219.75 | Avg Freq: 5889| {max:4615,min:7970}"
   ]
  },
  {
   "cell_type": "code",
   "execution_count": null,
   "id": "712fe9af",
   "metadata": {},
   "outputs": [],
   "source": []
  }
 ],
 "metadata": {
  "kernelspec": {
   "display_name": "Python 3 (ipykernel)",
   "language": "python",
   "name": "python3"
  },
  "language_info": {
   "codemirror_mode": {
    "name": "ipython",
    "version": 3
   },
   "file_extension": ".py",
   "mimetype": "text/x-python",
   "name": "python",
   "nbconvert_exporter": "python",
   "pygments_lexer": "ipython3",
   "version": "3.9.12"
  }
 },
 "nbformat": 4,
 "nbformat_minor": 5
}
